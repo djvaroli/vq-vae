{
 "cells": [
  {
   "cell_type": "code",
   "execution_count": 1,
   "metadata": {},
   "outputs": [
    {
     "name": "stderr",
     "output_type": "stream",
     "text": [
      "/Users/danielvaroli/opt/anaconda3/envs/vq-vae-pt/lib/python3.10/site-packages/tqdm/auto.py:22: TqdmWarning: IProgress not found. Please update jupyter and ipywidgets. See https://ipywidgets.readthedocs.io/en/stable/user_install.html\n",
      "  from .autonotebook import tqdm as notebook_tqdm\n"
     ]
    }
   ],
   "source": [
    "from dataclasses import dataclass\n",
    "import typing as t\n",
    "from enum import Enum\n",
    "import os\n",
    "from dotenv import load_dotenv\n",
    "\n",
    "import torch\n",
    "from torch import nn\n",
    "import numpy as np\n",
    "from torchvision.utils import make_grid\n",
    "\n",
    "from model import VQVAE, VQVAETrainer, QuantizationLoss\n",
    "from data import CIFAR10DataLoader, ImageDatasetTransforms\n",
    "from utils import plot_images_in_grid, display_tensor_as_image"
   ]
  },
  {
   "cell_type": "code",
   "execution_count": 2,
   "metadata": {},
   "outputs": [],
   "source": [
    "device_id = \"mps:0\"\n",
    "device = torch.device(device_id)\n",
    "seed = 1000\n",
    "\n",
    "if seed is not None:\n",
    "    torch.manual_seed(seed)\n",
    "    np.random.seed(seed)"
   ]
  },
  {
   "cell_type": "code",
   "execution_count": 3,
   "metadata": {},
   "outputs": [
    {
     "name": "stdout",
     "output_type": "stream",
     "text": [
      "Files already downloaded and verified\n"
     ]
    }
   ],
   "source": [
    "cifar10 = CIFAR10DataLoader(\n",
    "    train=True, \n",
    "    shuffle=True, \n",
    "    batch_size=1,\n",
    "    transforms=ImageDatasetTransforms.HALF_RGB.value\n",
    ")"
   ]
  },
  {
   "cell_type": "code",
   "execution_count": 78,
   "metadata": {},
   "outputs": [],
   "source": [
    "model = VQVAE(3, n_embeddings=10)\n",
    "state_dict = torch.load(\"vqvae-weights_975af2f2-8050-4bec-bbe6-39c895c1814d.pt\")\n",
    "model.load_state_dict(state_dict)\n",
    "model.eval();"
   ]
  },
  {
   "cell_type": "code",
   "execution_count": 79,
   "metadata": {},
   "outputs": [
    {
     "data": {
      "image/png": "[encoded data removed]",
      "text/plain": [
       "<Figure size 300x500 with 1 Axes>"
      ]
     },
     "metadata": {},
     "output_type": "display_data"
    }
   ],
   "source": [
    "reference_image = next(iter(cifar10))[0]\n",
    "display_tensor_as_image(reference_image[0] + 0.5, figsize=(3, 5))"
   ]
  },
  {
   "cell_type": "code",
   "execution_count": 80,
   "metadata": {},
   "outputs": [],
   "source": [
    "with torch.no_grad():\n",
    "    reconstructions = model(reference_image)"
   ]
  },
  {
   "cell_type": "code",
   "execution_count": 81,
   "metadata": {},
   "outputs": [
    {
     "data": {
      "image/png": "[encoded data removed]",
      "text/plain": [
       "<Figure size 300x500 with 1 Axes>"
      ]
     },
     "metadata": {},
     "output_type": "display_data"
    }
   ],
   "source": [
    "display_tensor_as_image(reconstructions[0] + 0.5, figsize=(3, 5))"
   ]
  },
  {
   "cell_type": "code",
   "execution_count": 82,
   "metadata": {},
   "outputs": [
    {
     "data": {
      "image/png": "[encoded data removed]",
      "text/plain": [
       "<Figure size 300x500 with 1 Axes>"
      ]
     },
     "metadata": {},
     "output_type": "display_data"
    }
   ],
   "source": [
    "with torch.no_grad():\n",
    "    pre_quantized = model.encoder.forward(reference_image)\n",
    "    pre_quantized = model.pre_quantizer_conv.forward(pre_quantized)\n",
    "    pre_quantized = pre_quantized.permute(0, 2, 3, 1).contiguous()\n",
    "    quantized, _= model.quantizer.forward(pre_quantized)\n",
    "    quantized = quantized.permute(0, 3, 1, 2).contiguous()\n",
    "    quantized_shape = quantized.shape\n",
    "    step_wise_reconstruction = model.decoder.forward(quantized)\n",
    "\n",
    "display_tensor_as_image(step_wise_reconstruction[0] + 0.5, figsize=(3, 5))"
   ]
  },
  {
   "cell_type": "code",
   "execution_count": 90,
   "metadata": {},
   "outputs": [
    {
     "name": "stderr",
     "output_type": "stream",
     "text": [
      "Clipping input data to the valid range for imshow with RGB data ([0..1] for floats or [0..255] for integers).\n"
     ]
    },
    {
     "data": {
      "image/png": "[encoded data removed]",
      "text/plain": [
       "<Figure size 300x500 with 1 Axes>"
      ]
     },
     "metadata": {},
     "output_type": "display_data"
    }
   ],
   "source": [
    "# now lets take the first code vector from the codebook replace all vectors in the reference encoding]\n",
    "with torch.no_grad():\n",
    "    quantized_copy = torch.clone(quantized)\n",
    "    code_index = 6\n",
    "    code = model.quantizer.codebook.weight.data[code_index, :].unsqueeze(0)\n",
    "    quantized_single_vector = code.repeat(1, 8, 8, 1).permute(0, 3, 1, 2)\n",
    "    test_reconstruction = model.decoder.forward(quantized_single_vector)\n",
    "display_tensor_as_image(test_reconstruction[0] + 0.6, figsize=(3, 5))"
   ]
  },
  {
   "cell_type": "code",
   "execution_count": null,
   "metadata": {},
   "outputs": [],
   "source": []
  }
 ],
 "metadata": {
  "kernelspec": {
   "display_name": "Python 3.10.4 ('vq-vae-pt')",
   "language": "python",
   "name": "python3"
  },
  "language_info": {
   "codemirror_mode": {
    "name": "ipython",
    "version": 3
   },
   "file_extension": ".py",
   "mimetype": "text/x-python",
   "name": "python",
   "nbconvert_exporter": "python",
   "pygments_lexer": "ipython3",
   "version": "3.10.4"
  },
  "orig_nbformat": 4,
  "vscode": {
   "interpreter": {
    "hash": "dfea6b41c10dceaa3851e610c54d3dcaa5ac6387aac34a9b538cbfac18c493a8"
   }
  }
 },
 "nbformat": 4,
 "nbformat_minor": 2
}
